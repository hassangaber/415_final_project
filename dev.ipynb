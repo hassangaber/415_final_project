{
 "cells": [
  {
   "cell_type": "code",
   "execution_count": 2,
   "metadata": {},
   "outputs": [],
   "source": [
    "import cv2\n",
    "from detection import yolo_v3_pipeline\n",
    "\n",
    "path='data/'\n",
    "video1='mcgill_drive.mp4'\n",
    "video2='st-catherines_drive.mp4'"
   ]
  },
  {
   "cell_type": "code",
   "execution_count": 3,
   "metadata": {},
   "outputs": [],
   "source": [
    "cap = cv2.VideoCapture(path+video1)"
   ]
  },
  {
   "cell_type": "code",
   "execution_count": 3,
   "metadata": {},
   "outputs": [],
   "source": [
    "# while True:\n",
    "#     ret, frame = cap.read()\n",
    "#     if not ret: break\n",
    "#     cv2.imshow('Frame', frame)\n",
    "#     key = cv2.waitKey(0)\n",
    "#     if key == 13 or key == 10:  \n",
    "#         continue  # If 'Enter' key (key code 13 or 10) is pressed, show next frame\n",
    "#     if key == ord('q') or key == 27: \n",
    "#         break   # If 'q' or 'Esc' key (key code 27) is pressed, exit the loop\n",
    "# cap.release()\n",
    "# cv2.destroyAllWindows()"
   ]
  },
  {
   "cell_type": "code",
   "execution_count": 3,
   "metadata": {},
   "outputs": [
    {
     "name": "stdout",
     "output_type": "stream",
     "text": [
      "(1440, 2562, 3)\n"
     ]
    },
    {
     "ename": "IndexError",
     "evalue": "invalid index to scalar variable.",
     "output_type": "error",
     "traceback": [
      "\u001b[0;31m---------------------------------------------------------------------------\u001b[0m",
      "\u001b[0;31mIndexError\u001b[0m                                Traceback (most recent call last)",
      "\u001b[1;32m/Users/hassan/Desktop/ECSE415/project/dev.ipynb Cell 4\u001b[0m line \u001b[0;36m7\n\u001b[1;32m      <a href='vscode-notebook-cell:/Users/hassan/Desktop/ECSE415/project/dev.ipynb#W3sZmlsZQ%3D%3D?line=4'>5</a>\u001b[0m \u001b[39mprint\u001b[39m(frame\u001b[39m.\u001b[39mshape)\n\u001b[1;32m      <a href='vscode-notebook-cell:/Users/hassan/Desktop/ECSE415/project/dev.ipynb#W3sZmlsZQ%3D%3D?line=5'>6</a>\u001b[0m \u001b[39m# Process frame through YOLOv3 pipeline\u001b[39;00m\n\u001b[0;32m----> <a href='vscode-notebook-cell:/Users/hassan/Desktop/ECSE415/project/dev.ipynb#W3sZmlsZQ%3D%3D?line=6'>7</a>\u001b[0m processed_frame, labels, probabilities \u001b[39m=\u001b[39m yolo_v3_pipeline(frame)\n\u001b[1;32m      <a href='vscode-notebook-cell:/Users/hassan/Desktop/ECSE415/project/dev.ipynb#W3sZmlsZQ%3D%3D?line=8'>9</a>\u001b[0m \u001b[39m# Display the processed frame\u001b[39;00m\n\u001b[1;32m     <a href='vscode-notebook-cell:/Users/hassan/Desktop/ECSE415/project/dev.ipynb#W3sZmlsZQ%3D%3D?line=9'>10</a>\u001b[0m cv2\u001b[39m.\u001b[39mimshow(\u001b[39m\"\u001b[39m\u001b[39mProcessed Frame\u001b[39m\u001b[39m\"\u001b[39m, processed_frame)\n",
      "File \u001b[0;32m~/Desktop/ECSE415/project/detection.py:17\u001b[0m, in \u001b[0;36myolo_v3_pipeline\u001b[0;34m(img)\u001b[0m\n\u001b[1;32m     15\u001b[0m MODEL\u001b[39m.\u001b[39msetInput(blob)\n\u001b[1;32m     16\u001b[0m LAYERS \u001b[39m=\u001b[39m MODEL\u001b[39m.\u001b[39mgetLayerNames()\n\u001b[0;32m---> 17\u001b[0m LAYERS \u001b[39m=\u001b[39m [LAYERS[i[\u001b[39m0\u001b[39m] \u001b[39m-\u001b[39m \u001b[39m1\u001b[39m] \u001b[39mfor\u001b[39;00m i \u001b[39min\u001b[39;00m MODEL\u001b[39m.\u001b[39mgetUnconnectedOutLayers()]\n\u001b[1;32m     18\u001b[0m outs \u001b[39m=\u001b[39m MODEL\u001b[39m.\u001b[39mforward(LAYERS)\n\u001b[1;32m     19\u001b[0m boxes \u001b[39m=\u001b[39m []\n",
      "File \u001b[0;32m~/Desktop/ECSE415/project/detection.py:17\u001b[0m, in \u001b[0;36m<listcomp>\u001b[0;34m(.0)\u001b[0m\n\u001b[1;32m     15\u001b[0m MODEL\u001b[39m.\u001b[39msetInput(blob)\n\u001b[1;32m     16\u001b[0m LAYERS \u001b[39m=\u001b[39m MODEL\u001b[39m.\u001b[39mgetLayerNames()\n\u001b[0;32m---> 17\u001b[0m LAYERS \u001b[39m=\u001b[39m [LAYERS[i[\u001b[39m0\u001b[39;49m] \u001b[39m-\u001b[39m \u001b[39m1\u001b[39m] \u001b[39mfor\u001b[39;00m i \u001b[39min\u001b[39;00m MODEL\u001b[39m.\u001b[39mgetUnconnectedOutLayers()]\n\u001b[1;32m     18\u001b[0m outs \u001b[39m=\u001b[39m MODEL\u001b[39m.\u001b[39mforward(LAYERS)\n\u001b[1;32m     19\u001b[0m boxes \u001b[39m=\u001b[39m []\n",
      "\u001b[0;31mIndexError\u001b[0m: invalid index to scalar variable."
     ]
    }
   ],
   "source": [
    "while cap.isOpened():\n",
    "    ret, frame = cap.read()\n",
    "    if not ret:\n",
    "        break\n",
    "    print(frame.shape)\n",
    "    # Process frame through YOLOv3 pipeline\n",
    "    processed_frame, labels, probabilities = yolo_v3_pipeline(frame)\n",
    "\n",
    "    # Display the processed frame\n",
    "    cv2.imshow(\"Processed Frame\", processed_frame)\n",
    "\n",
    "    # Exit on 'q' press\n",
    "    if cv2.waitKey(1) & 0xFF == ord('q'):\n",
    "        break"
   ]
  },
  {
   "cell_type": "code",
   "execution_count": 1,
   "metadata": {},
   "outputs": [],
   "source": [
    "# Object Detecion \n",
    "import cv2\n",
    "from ultralytics import YOLO\n",
    "#plots\n",
    "import matplotlib.pyplot as plt\n",
    "import seaborn as sns\n",
    "\n",
    "#basics\n",
    "import pandas as pd\n",
    "import numpy as np\n",
    "import os\n",
    "import subprocess\n",
    "\n",
    "from tqdm.notebook import tqdm\n",
    "\n",
    "# Display image and videos\n",
    "import IPython\n",
    "from IPython.display import Video, display\n",
    "%matplotlib inline"
   ]
  },
  {
   "cell_type": "code",
   "execution_count": 5,
   "metadata": {},
   "outputs": [],
   "source": [
    "#loading a YOLO model \n",
    "model = YOLO('yolov8x.pt')\n",
    "\n",
    "#geting names from classes\n",
    "dict_classes = model.model.names"
   ]
  },
  {
   "cell_type": "code",
   "execution_count": null,
   "metadata": {},
   "outputs": [],
   "source": []
  }
 ],
 "metadata": {
  "kernelspec": {
   "display_name": "ecsecv",
   "language": "python",
   "name": "python3"
  },
  "language_info": {
   "codemirror_mode": {
    "name": "ipython",
    "version": 3
   },
   "file_extension": ".py",
   "mimetype": "text/x-python",
   "name": "python",
   "nbconvert_exporter": "python",
   "pygments_lexer": "ipython3",
   "version": "3.8.8"
  }
 },
 "nbformat": 4,
 "nbformat_minor": 2
}
